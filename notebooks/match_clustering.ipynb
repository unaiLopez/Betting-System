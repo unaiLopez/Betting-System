{
 "cells": [
  {
   "cell_type": "code",
   "execution_count": 144,
   "metadata": {},
   "outputs": [],
   "source": [
    "def warn(*args, **kwargs):\n",
    "    pass\n",
    "import warnings\n",
    "warnings.warn = warn\n",
    "import pandas as pd\n",
    "from sklearn.preprocessing import StandardScaler\n",
    "import matplotlib.pyplot as plt\n",
    "%matplotlib inline \n",
    "from sklearn.cluster import KMeans\n",
    "from sklearn.svm import SVC\n",
    "from sklearn.metrics import accuracy_score\n",
    "import numpy as np\n",
    "from sklearn.model_selection import train_test_split\n",
    "from tqdm import tqdm"
   ]
  },
  {
   "cell_type": "code",
   "execution_count": 13,
   "metadata": {},
   "outputs": [],
   "source": [
    "df = pd.read_csv('../inputs/ready_data/preprocessed_all_matches.csv', parse_dates=['Date'])\n",
    "df.dropna(subset=['HomeTeam', 'AwayTeam'], inplace=True)\n",
    "df = df[['Full_Time_Result', 'Home Overall Score', 'Home Attack Score', 'Home Middle Score', 'Home Defensive Score', 'Home Budget',\n",
    "        'Away Overall Score', 'Away Attack Score', 'Away Middle Score', 'Away Defensive Score', 'Away Budget', 'Difference_Overall_Score',\n",
    "        'Difference_Attack_Score', 'Difference_Middle_Score', 'Difference_Defensive_Score', 'Difference_Budget', 'HOME_TRUESKILL_MU_NO_RESET',\n",
    "        'AWAY_TRUESKILL_MU_NO_RESET','HOME_TRUESKILL_SIGMA_NO_RESET', 'AWAY_TRUESKILL_SIGMA_NO_RESET','DRAW_CHANCE_NO_RESET',\n",
    "        'HOME_TRUESKILL_MU_SEASON', 'AWAY_TRUESKILL_MU_SEASON', 'HOME_TRUESKILL_SIGMA_SEASON', 'AWAY_TRUESKILL_SIGMA_SEASON',\n",
    "        'DRAW_CHANCE_SEASON', 'HOME_ID', 'AWAY_ID',\n",
    "        'HOME_WINS_HOME', 'HOME_DRAWS_HOME', 'HOME_LOSSES_HOME', 'AWAY_WINS_HOME', 'AWAY_DRAWS_HOME', 'AWAY_LOSSES_HOME', 'HOME_WINS_AWAY', 'HOME_DRAWS_AWAY', \n",
    "        'HOME_LOSSES_AWAY', 'AWAY_WINS_AWAY', 'AWAY_DRAWS_AWAY', 'AWAY_LOSSES_AWAY']]"
   ]
  },
  {
   "cell_type": "code",
   "execution_count": 14,
   "metadata": {},
   "outputs": [],
   "source": [
    "distortions = []\n",
    "K = range(1,8)\n",
    "for k in K:\n",
    "    kmeanModel = KMeans(n_clusters=k)\n",
    "    kmeanModel.fit(df)\n",
    "    distortions.append(kmeanModel.inertia_)"
   ]
  },
  {
   "cell_type": "code",
   "execution_count": 15,
   "metadata": {},
   "outputs": [
    {
     "data": {
      "image/png": "[encoded data removed]",
      "text/plain": [
       "<Figure size 1152x576 with 1 Axes>"
      ]
     },
     "metadata": {
      "needs_background": "light"
     },
     "output_type": "display_data"
    }
   ],
   "source": [
    "plt.figure(figsize=(16,8))\n",
    "plt.plot(K, distortions, 'bx-')\n",
    "plt.xlabel('k')\n",
    "plt.ylabel('Distortion')\n",
    "plt.title('The Elbow Method showing the optimal k')\n",
    "plt.show()"
   ]
  },
  {
   "cell_type": "code",
   "execution_count": 16,
   "metadata": {},
   "outputs": [
    {
     "data": {
      "text/plain": [
       "5210"
      ]
     },
     "execution_count": 16,
     "metadata": {},
     "output_type": "execute_result"
    }
   ],
   "source": [
    "X = df.drop(['Full_Time_Result'], axis=1)\n",
    "y = df.Full_Time_Result\n",
    "\n",
    "kmeanModel = KMeans(n_clusters=10)\n",
    "kmeanModel.fit(X)\n",
    "kmeanModel.labels_\n",
    "len(kmeanModel.labels_)"
   ]
  },
  {
   "cell_type": "code",
   "execution_count": 17,
   "metadata": {},
   "outputs": [
    {
     "data": {
      "text/html": [
       "<div>\n",
       "<style scoped>\n",
       "    .dataframe tbody tr th:only-of-type {\n",
       "        vertical-align: middle;\n",
       "    }\n",
       "\n",
       "    .dataframe tbody tr th {\n",
       "        vertical-align: top;\n",
       "    }\n",
       "\n",
       "    .dataframe thead th {\n",
       "        text-align: right;\n",
       "    }\n",
       "</style>\n",
       "<table border=\"1\" class=\"dataframe\">\n",
       "  <thead>\n",
       "    <tr style=\"text-align: right;\">\n",
       "      <th></th>\n",
       "      <th>Full_Time_Result</th>\n",
       "      <th>Home Overall Score</th>\n",
       "      <th>Home Attack Score</th>\n",
       "      <th>Home Middle Score</th>\n",
       "      <th>Home Defensive Score</th>\n",
       "      <th>Home Budget</th>\n",
       "      <th>Away Overall Score</th>\n",
       "      <th>Away Attack Score</th>\n",
       "      <th>Away Middle Score</th>\n",
       "      <th>Away Defensive Score</th>\n",
       "      <th>...</th>\n",
       "      <th>AWAY_WINS_HOME</th>\n",
       "      <th>AWAY_DRAWS_HOME</th>\n",
       "      <th>AWAY_LOSSES_HOME</th>\n",
       "      <th>HOME_WINS_AWAY</th>\n",
       "      <th>HOME_DRAWS_AWAY</th>\n",
       "      <th>HOME_LOSSES_AWAY</th>\n",
       "      <th>AWAY_WINS_AWAY</th>\n",
       "      <th>AWAY_DRAWS_AWAY</th>\n",
       "      <th>AWAY_LOSSES_AWAY</th>\n",
       "      <th>Cluster</th>\n",
       "    </tr>\n",
       "  </thead>\n",
       "  <tbody>\n",
       "    <tr>\n",
       "      <th>0</th>\n",
       "      <td>1</td>\n",
       "      <td>81</td>\n",
       "      <td>83</td>\n",
       "      <td>80</td>\n",
       "      <td>78</td>\n",
       "      <td>25.0</td>\n",
       "      <td>76</td>\n",
       "      <td>76</td>\n",
       "      <td>74</td>\n",
       "      <td>73</td>\n",
       "      <td>...</td>\n",
       "      <td>0</td>\n",
       "      <td>0</td>\n",
       "      <td>0</td>\n",
       "      <td>0</td>\n",
       "      <td>0</td>\n",
       "      <td>0</td>\n",
       "      <td>0</td>\n",
       "      <td>0</td>\n",
       "      <td>0</td>\n",
       "      <td>3</td>\n",
       "    </tr>\n",
       "    <tr>\n",
       "      <th>1</th>\n",
       "      <td>0</td>\n",
       "      <td>76</td>\n",
       "      <td>75</td>\n",
       "      <td>74</td>\n",
       "      <td>73</td>\n",
       "      <td>1.0</td>\n",
       "      <td>72</td>\n",
       "      <td>72</td>\n",
       "      <td>72</td>\n",
       "      <td>70</td>\n",
       "      <td>...</td>\n",
       "      <td>0</td>\n",
       "      <td>0</td>\n",
       "      <td>0</td>\n",
       "      <td>0</td>\n",
       "      <td>0</td>\n",
       "      <td>0</td>\n",
       "      <td>0</td>\n",
       "      <td>0</td>\n",
       "      <td>0</td>\n",
       "      <td>9</td>\n",
       "    </tr>\n",
       "    <tr>\n",
       "      <th>2</th>\n",
       "      <td>2</td>\n",
       "      <td>76</td>\n",
       "      <td>78</td>\n",
       "      <td>74</td>\n",
       "      <td>72</td>\n",
       "      <td>15.0</td>\n",
       "      <td>72</td>\n",
       "      <td>75</td>\n",
       "      <td>70</td>\n",
       "      <td>68</td>\n",
       "      <td>...</td>\n",
       "      <td>0</td>\n",
       "      <td>0</td>\n",
       "      <td>0</td>\n",
       "      <td>0</td>\n",
       "      <td>0</td>\n",
       "      <td>0</td>\n",
       "      <td>0</td>\n",
       "      <td>0</td>\n",
       "      <td>0</td>\n",
       "      <td>3</td>\n",
       "    </tr>\n",
       "    <tr>\n",
       "      <th>3</th>\n",
       "      <td>1</td>\n",
       "      <td>75</td>\n",
       "      <td>72</td>\n",
       "      <td>75</td>\n",
       "      <td>75</td>\n",
       "      <td>8.0</td>\n",
       "      <td>76</td>\n",
       "      <td>78</td>\n",
       "      <td>77</td>\n",
       "      <td>72</td>\n",
       "      <td>...</td>\n",
       "      <td>0</td>\n",
       "      <td>0</td>\n",
       "      <td>0</td>\n",
       "      <td>0</td>\n",
       "      <td>0</td>\n",
       "      <td>0</td>\n",
       "      <td>0</td>\n",
       "      <td>0</td>\n",
       "      <td>0</td>\n",
       "      <td>9</td>\n",
       "    </tr>\n",
       "    <tr>\n",
       "      <th>4</th>\n",
       "      <td>2</td>\n",
       "      <td>78</td>\n",
       "      <td>80</td>\n",
       "      <td>76</td>\n",
       "      <td>73</td>\n",
       "      <td>7.5</td>\n",
       "      <td>74</td>\n",
       "      <td>74</td>\n",
       "      <td>74</td>\n",
       "      <td>74</td>\n",
       "      <td>...</td>\n",
       "      <td>0</td>\n",
       "      <td>0</td>\n",
       "      <td>0</td>\n",
       "      <td>0</td>\n",
       "      <td>0</td>\n",
       "      <td>0</td>\n",
       "      <td>0</td>\n",
       "      <td>0</td>\n",
       "      <td>0</td>\n",
       "      <td>9</td>\n",
       "    </tr>\n",
       "    <tr>\n",
       "      <th>...</th>\n",
       "      <td>...</td>\n",
       "      <td>...</td>\n",
       "      <td>...</td>\n",
       "      <td>...</td>\n",
       "      <td>...</td>\n",
       "      <td>...</td>\n",
       "      <td>...</td>\n",
       "      <td>...</td>\n",
       "      <td>...</td>\n",
       "      <td>...</td>\n",
       "      <td>...</td>\n",
       "      <td>...</td>\n",
       "      <td>...</td>\n",
       "      <td>...</td>\n",
       "      <td>...</td>\n",
       "      <td>...</td>\n",
       "      <td>...</td>\n",
       "      <td>...</td>\n",
       "      <td>...</td>\n",
       "      <td>...</td>\n",
       "      <td>...</td>\n",
       "    </tr>\n",
       "    <tr>\n",
       "      <th>5205</th>\n",
       "      <td>2</td>\n",
       "      <td>74</td>\n",
       "      <td>76</td>\n",
       "      <td>74</td>\n",
       "      <td>73</td>\n",
       "      <td>4.4</td>\n",
       "      <td>77</td>\n",
       "      <td>78</td>\n",
       "      <td>78</td>\n",
       "      <td>76</td>\n",
       "      <td>...</td>\n",
       "      <td>7</td>\n",
       "      <td>3</td>\n",
       "      <td>3</td>\n",
       "      <td>3</td>\n",
       "      <td>4</td>\n",
       "      <td>7</td>\n",
       "      <td>1</td>\n",
       "      <td>7</td>\n",
       "      <td>5</td>\n",
       "      <td>0</td>\n",
       "    </tr>\n",
       "    <tr>\n",
       "      <th>5206</th>\n",
       "      <td>0</td>\n",
       "      <td>76</td>\n",
       "      <td>76</td>\n",
       "      <td>76</td>\n",
       "      <td>73</td>\n",
       "      <td>3.1</td>\n",
       "      <td>79</td>\n",
       "      <td>79</td>\n",
       "      <td>79</td>\n",
       "      <td>79</td>\n",
       "      <td>...</td>\n",
       "      <td>8</td>\n",
       "      <td>2</td>\n",
       "      <td>3</td>\n",
       "      <td>3</td>\n",
       "      <td>0</td>\n",
       "      <td>11</td>\n",
       "      <td>3</td>\n",
       "      <td>2</td>\n",
       "      <td>8</td>\n",
       "      <td>8</td>\n",
       "    </tr>\n",
       "    <tr>\n",
       "      <th>5207</th>\n",
       "      <td>2</td>\n",
       "      <td>77</td>\n",
       "      <td>77</td>\n",
       "      <td>77</td>\n",
       "      <td>76</td>\n",
       "      <td>8.2</td>\n",
       "      <td>75</td>\n",
       "      <td>76</td>\n",
       "      <td>75</td>\n",
       "      <td>75</td>\n",
       "      <td>...</td>\n",
       "      <td>4</td>\n",
       "      <td>3</td>\n",
       "      <td>7</td>\n",
       "      <td>5</td>\n",
       "      <td>1</td>\n",
       "      <td>8</td>\n",
       "      <td>0</td>\n",
       "      <td>5</td>\n",
       "      <td>7</td>\n",
       "      <td>9</td>\n",
       "    </tr>\n",
       "    <tr>\n",
       "      <th>5208</th>\n",
       "      <td>1</td>\n",
       "      <td>79</td>\n",
       "      <td>80</td>\n",
       "      <td>79</td>\n",
       "      <td>78</td>\n",
       "      <td>32.9</td>\n",
       "      <td>75</td>\n",
       "      <td>75</td>\n",
       "      <td>75</td>\n",
       "      <td>75</td>\n",
       "      <td>...</td>\n",
       "      <td>9</td>\n",
       "      <td>4</td>\n",
       "      <td>0</td>\n",
       "      <td>1</td>\n",
       "      <td>6</td>\n",
       "      <td>6</td>\n",
       "      <td>7</td>\n",
       "      <td>4</td>\n",
       "      <td>2</td>\n",
       "      <td>3</td>\n",
       "    </tr>\n",
       "    <tr>\n",
       "      <th>5209</th>\n",
       "      <td>2</td>\n",
       "      <td>80</td>\n",
       "      <td>81</td>\n",
       "      <td>81</td>\n",
       "      <td>78</td>\n",
       "      <td>16.1</td>\n",
       "      <td>86</td>\n",
       "      <td>85</td>\n",
       "      <td>87</td>\n",
       "      <td>85</td>\n",
       "      <td>...</td>\n",
       "      <td>8</td>\n",
       "      <td>2</td>\n",
       "      <td>3</td>\n",
       "      <td>1</td>\n",
       "      <td>5</td>\n",
       "      <td>7</td>\n",
       "      <td>5</td>\n",
       "      <td>2</td>\n",
       "      <td>6</td>\n",
       "      <td>7</td>\n",
       "    </tr>\n",
       "  </tbody>\n",
       "</table>\n",
       "<p>5210 rows × 41 columns</p>\n",
       "</div>"
      ],
      "text/plain": [
       "      Full_Time_Result  Home Overall Score  Home Attack Score  \\\n",
       "0                    1                  81                 83   \n",
       "1                    0                  76                 75   \n",
       "2                    2                  76                 78   \n",
       "3                    1                  75                 72   \n",
       "4                    2                  78                 80   \n",
       "...                ...                 ...                ...   \n",
       "5205                 2                  74                 76   \n",
       "5206                 0                  76                 76   \n",
       "5207                 2                  77                 77   \n",
       "5208                 1                  79                 80   \n",
       "5209                 2                  80                 81   \n",
       "\n",
       "      Home Middle Score  Home Defensive Score  Home Budget  \\\n",
       "0                    80                    78         25.0   \n",
       "1                    74                    73          1.0   \n",
       "2                    74                    72         15.0   \n",
       "3                    75                    75          8.0   \n",
       "4                    76                    73          7.5   \n",
       "...                 ...                   ...          ...   \n",
       "5205                 74                    73          4.4   \n",
       "5206                 76                    73          3.1   \n",
       "5207                 77                    76          8.2   \n",
       "5208                 79                    78         32.9   \n",
       "5209                 81                    78         16.1   \n",
       "\n",
       "      Away Overall Score  Away Attack Score  Away Middle Score  \\\n",
       "0                     76                 76                 74   \n",
       "1                     72                 72                 72   \n",
       "2                     72                 75                 70   \n",
       "3                     76                 78                 77   \n",
       "4                     74                 74                 74   \n",
       "...                  ...                ...                ...   \n",
       "5205                  77                 78                 78   \n",
       "5206                  79                 79                 79   \n",
       "5207                  75                 76                 75   \n",
       "5208                  75                 75                 75   \n",
       "5209                  86                 85                 87   \n",
       "\n",
       "      Away Defensive Score  ...  AWAY_WINS_HOME  AWAY_DRAWS_HOME  \\\n",
       "0                       73  ...               0                0   \n",
       "1                       70  ...               0                0   \n",
       "2                       68  ...               0                0   \n",
       "3                       72  ...               0                0   \n",
       "4                       74  ...               0                0   \n",
       "...                    ...  ...             ...              ...   \n",
       "5205                    76  ...               7                3   \n",
       "5206                    79  ...               8                2   \n",
       "5207                    75  ...               4                3   \n",
       "5208                    75  ...               9                4   \n",
       "5209                    85  ...               8                2   \n",
       "\n",
       "      AWAY_LOSSES_HOME  HOME_WINS_AWAY  HOME_DRAWS_AWAY  HOME_LOSSES_AWAY  \\\n",
       "0                    0               0                0                 0   \n",
       "1                    0               0                0                 0   \n",
       "2                    0               0                0                 0   \n",
       "3                    0               0                0                 0   \n",
       "4                    0               0                0                 0   \n",
       "...                ...             ...              ...               ...   \n",
       "5205                 3               3                4                 7   \n",
       "5206                 3               3                0                11   \n",
       "5207                 7               5                1                 8   \n",
       "5208                 0               1                6                 6   \n",
       "5209                 3               1                5                 7   \n",
       "\n",
       "      AWAY_WINS_AWAY  AWAY_DRAWS_AWAY  AWAY_LOSSES_AWAY  Cluster  \n",
       "0                  0                0                 0        3  \n",
       "1                  0                0                 0        9  \n",
       "2                  0                0                 0        3  \n",
       "3                  0                0                 0        9  \n",
       "4                  0                0                 0        9  \n",
       "...              ...              ...               ...      ...  \n",
       "5205               1                7                 5        0  \n",
       "5206               3                2                 8        8  \n",
       "5207               0                5                 7        9  \n",
       "5208               7                4                 2        3  \n",
       "5209               5                2                 6        7  \n",
       "\n",
       "[5210 rows x 41 columns]"
      ]
     },
     "execution_count": 17,
     "metadata": {},
     "output_type": "execute_result"
    }
   ],
   "source": [
    "df['Cluster'] = kmeanModel.labels_\n",
    "df"
   ]
  },
  {
   "cell_type": "code",
   "execution_count": 18,
   "metadata": {},
   "outputs": [
    {
     "data": {
      "text/plain": [
       "0.5302325581395348"
      ]
     },
     "execution_count": 18,
     "metadata": {},
     "output_type": "execute_result"
    }
   ],
   "source": [
    "X_scaled = StandardScaler().fit_transform(X)\n",
    "X_train, X_test, y_train, y_test = train_test_split(X_scaled, y, test_size=0.33, shuffle=False)\n",
    "model = SVC()   \n",
    "model.fit(X_train, y_train)\n",
    "y_pred = model.predict(X_test)\n",
    "accuracy_score(y_test, y_pred)"
   ]
  },
  {
   "cell_type": "code",
   "execution_count": 19,
   "metadata": {},
   "outputs": [
    {
     "data": {
      "text/plain": [
       "array([3, 9, 1, 5, 8, 6, 0, 2, 4, 7], dtype=int32)"
      ]
     },
     "execution_count": 19,
     "metadata": {},
     "output_type": "execute_result"
    }
   ],
   "source": [
    "df.Cluster.unique()"
   ]
  },
  {
   "cell_type": "code",
   "execution_count": 20,
   "metadata": {},
   "outputs": [
    {
     "data": {
      "text/plain": [
       "Cluster  Full_Time_Result\n",
       "0        1                   419\n",
       "         2                   287\n",
       "         0                   260\n",
       "1        1                   300\n",
       "         0                    27\n",
       "         2                    14\n",
       "2        2                    20\n",
       "         0                    19\n",
       "         1                    19\n",
       "3        1                   474\n",
       "         0                   153\n",
       "         2                   113\n",
       "4        1                    47\n",
       "         0                     9\n",
       "         2                     5\n",
       "5        2                   329\n",
       "         0                   114\n",
       "         1                   103\n",
       "6        1                   162\n",
       "         0                    48\n",
       "         2                    24\n",
       "7        2                    31\n",
       "         0                    16\n",
       "         1                    14\n",
       "8        2                   290\n",
       "         1                   263\n",
       "         0                   181\n",
       "9        1                   695\n",
       "         0                   422\n",
       "         2                   352\n",
       "Name: Full_Time_Result, dtype: int64"
      ]
     },
     "execution_count": 20,
     "metadata": {},
     "output_type": "execute_result"
    }
   ],
   "source": [
    "df.groupby('Cluster').Full_Time_Result.value_counts()"
   ]
  },
  {
   "cell_type": "code",
   "execution_count": 157,
   "metadata": {},
   "outputs": [],
   "source": [
    "def warn(*args, **kwargs):\n",
    "    pass\n",
    "import warnings\n",
    "warnings.warn = warn\n",
    "from sklearn.ensemble import RandomForestClassifier\n",
    "from sklearn.svm import SVC\n",
    "from sklearn.linear_model import LogisticRegression, SGDClassifier\n",
    "from xgboost import XGBClassifier\n",
    "from sklearn.metrics import precision_recall_fscore_support as score\n",
    "\n",
    "def get_best_model(df_clust: pd.DataFrame, full_df: pd.DataFrame):\n",
    "    models = ['SVM', 'RF', 'LR', 'XGB', 'KNN', 'SGD']\n",
    "    best_acc = 0\n",
    "    best_precision = 0\n",
    "    best_recall = 0\n",
    "    best_fscore = 0\n",
    "    best_support = 0\n",
    "    best_model = 'None'\n",
    "\n",
    "    for model_name in models:\n",
    "        X = full_df.drop(['Full_Time_Result'], axis=1)\n",
    "        column_names = X.columns\n",
    "        y = full_df.Full_Time_Result\n",
    "        if model_name == 'SVM':\n",
    "            model = SVC(random_state=42)\n",
    "            X = StandardScaler().fit_transform(X)\n",
    "        elif model_name == 'LR':\n",
    "            model = LogisticRegression()\n",
    "            X = StandardScaler().fit_transform(X)\n",
    "        elif model_name == 'XGB':\n",
    "            model = XGBClassifier(random_state=42, verbosity=0)\n",
    "\n",
    "        elif model_name == 'RF':\n",
    "            model = RandomForestClassifier(random_state=42)\n",
    "        \n",
    "        elif model_name == 'SGD':\n",
    "            model = LogisticRegression(random_state=42)\n",
    "            X = StandardScaler().fit_transform(X)\n",
    "\n",
    "        X_train, X_test, y_train, y_test = train_test_split(X, y, test_size=0.2, shuffle=True)\n",
    "\n",
    "\n",
    "        y_train_merge = pd.DataFrame({'Full_Time_Result': y_train})\n",
    "        X_train_merge = pd.DataFrame(columns=column_names, data=X_train)\n",
    "        train = pd.concat([X_train_merge, y_train_merge], axis=1)\n",
    "\n",
    "        # print(df_clust.shape, train.shape)\n",
    "        df_clust = df_clust.astype(train.dtypes.to_dict())\n",
    "        train = pd.merge(df_clust, train, how='outer', indicator='Exist')\n",
    "        train = train.loc[train['Exist'] != 'both']\n",
    "        train = train.dropna(subset=['Cluster', 'Full_Time_Result'])\n",
    "        X_train_merge = train.drop(['Full_Time_Result', 'Exist'], axis=1)\n",
    "        y_train_merge = train.Full_Time_Result\n",
    "        # print('SHAPES: ', X_train.shape, y_train.shape)\n",
    "        # print('NA Count: ', X_train_merge.isna().sum().sum(), y_train_merge.isna().sum())\n",
    "\n",
    "        model.fit(X_train_merge.values, y_train_merge.values)\n",
    "        y_pred = model.predict(df_clust.drop(['Full_Time_Result'], axis=1))\n",
    "        y_test = df_clust.Full_Time_Result\n",
    "        \n",
    "        aux_acc = accuracy_score(y_test, y_pred)\n",
    "        aux_precision, aux_recall, aux_fscore, aux_support = score(y_test, y_pred)\n",
    "        if best_acc < aux_acc:\n",
    "            best_model = model_name\n",
    "            best_acc = aux_acc\n",
    "            mod_precision = aux_precision\n",
    "            mod_recall = aux_recall\n",
    "            mod_fscore = aux_fscore\n",
    "            mod_support = aux_support\n",
    "\n",
    "    return best_acc, best_model, mod_precision, mod_recall, mod_fscore, mod_support"
   ]
  },
  {
   "cell_type": "code",
   "execution_count": 167,
   "metadata": {},
   "outputs": [],
   "source": [
    "def get_best_models_per_cluster(df: pd.DataFrame):\n",
    "    model_final_df = pd.DataFrame({'Cluster': [], 'Best_Model': [], 'Best_Acc': [], \n",
    "                                   'Home_Wins': [], 'Draws': [], 'Away_Wins': [],\n",
    "                                   'Total_Matches': []})\n",
    "    for cluster_numb in tqdm(df.Cluster.unique()):\n",
    "        model_df = df.query('Cluster == @cluster_numb')\n",
    "        \n",
    "        home_wins = model_df.query('Full_Time_Result == 1').count().Full_Time_Result\n",
    "        draws = model_df.query('Full_Time_Result == 0').count().Full_Time_Result\n",
    "        away_wins = model_df.query('Full_Time_Result == 2').count().Full_Time_Result\n",
    "        total_matches = model_df.shape[0]\n",
    "        best_model = None\n",
    "        best_acc = 0\n",
    "        best_acc, best_model, mod_precision, mod_recall, mod_fscore, mod_support = get_best_model(model_df, df)\n",
    "        print(\"Best model for cluster {} was {} with an accuracy of {}\".format(cluster_numb, best_model, best_acc))\n",
    "        model_final_df = model_final_df.append({'Cluster': cluster_numb, 'Best_Model': best_model, \n",
    "                                                'Best_Acc': best_acc, 'Model_Precision': mod_precision,\n",
    "                                                'Model_Recall': mod_recall, 'Model_FScore': mod_fscore,\n",
    "                                                'Model_Support': mod_support, 'Home_Wins': home_wins,\n",
    "                                                'Draws': draws, 'Away_Wins': away_wins, 'Total_Matches': total_matches}\n",
    "                                                , ignore_index=True)\n",
    "    return model_final_df"
   ]
  },
  {
   "cell_type": "code",
   "execution_count": 168,
   "metadata": {},
   "outputs": [
    {
     "name": "stderr",
     "output_type": "stream",
     "text": [
      " 10%|█         | 1/10 [00:06<00:54,  6.01s/it]"
     ]
    },
    {
     "name": "stdout",
     "output_type": "stream",
     "text": [
      "Best model for cluster 3 was RF with an accuracy of 0.7067567567567568\n"
     ]
    },
    {
     "name": "stderr",
     "output_type": "stream",
     "text": [
      " 20%|██        | 2/10 [00:12<00:49,  6.22s/it]"
     ]
    },
    {
     "name": "stdout",
     "output_type": "stream",
     "text": [
      "Best model for cluster 9 was XGB with an accuracy of 0.5643294758339006\n"
     ]
    },
    {
     "name": "stderr",
     "output_type": "stream",
     "text": [
      " 30%|███       | 3/10 [00:19<00:47,  6.77s/it]"
     ]
    },
    {
     "name": "stdout",
     "output_type": "stream",
     "text": [
      "Best model for cluster 1 was RF with an accuracy of 0.9002932551319648\n"
     ]
    },
    {
     "name": "stderr",
     "output_type": "stream",
     "text": [
      " 40%|████      | 4/10 [00:28<00:46,  7.71s/it]"
     ]
    },
    {
     "name": "stdout",
     "output_type": "stream",
     "text": [
      "Best model for cluster 5 was RF with an accuracy of 0.6721611721611722\n"
     ]
    },
    {
     "name": "stderr",
     "output_type": "stream",
     "text": [
      " 50%|█████     | 5/10 [00:37<00:40,  8.11s/it]"
     ]
    },
    {
     "name": "stdout",
     "output_type": "stream",
     "text": [
      "Best model for cluster 8 was KNN with an accuracy of 0.5204359673024523\n"
     ]
    },
    {
     "name": "stderr",
     "output_type": "stream",
     "text": [
      " 60%|██████    | 6/10 [00:44<00:30,  7.72s/it]"
     ]
    },
    {
     "name": "stdout",
     "output_type": "stream",
     "text": [
      "Best model for cluster 6 was RF with an accuracy of 0.7521367521367521\n"
     ]
    },
    {
     "name": "stderr",
     "output_type": "stream",
     "text": [
      " 70%|███████   | 7/10 [00:51<00:22,  7.52s/it]"
     ]
    },
    {
     "name": "stdout",
     "output_type": "stream",
     "text": [
      "Best model for cluster 0 was RF with an accuracy of 0.5124223602484472\n"
     ]
    },
    {
     "name": "stderr",
     "output_type": "stream",
     "text": [
      " 80%|████████  | 8/10 [00:58<00:14,  7.40s/it]"
     ]
    },
    {
     "name": "stdout",
     "output_type": "stream",
     "text": [
      "Best model for cluster 2 was SVM with an accuracy of 0.5862068965517241\n"
     ]
    },
    {
     "name": "stderr",
     "output_type": "stream",
     "text": [
      " 90%|█████████ | 9/10 [01:06<00:07,  7.32s/it]"
     ]
    },
    {
     "name": "stdout",
     "output_type": "stream",
     "text": [
      "Best model for cluster 4 was XGB with an accuracy of 0.8360655737704918\n"
     ]
    },
    {
     "name": "stderr",
     "output_type": "stream",
     "text": [
      "100%|██████████| 10/10 [01:14<00:00,  7.44s/it]"
     ]
    },
    {
     "name": "stdout",
     "output_type": "stream",
     "text": [
      "Best model for cluster 7 was SGD with an accuracy of 0.5901639344262295\n"
     ]
    },
    {
     "name": "stderr",
     "output_type": "stream",
     "text": [
      "\n"
     ]
    }
   ],
   "source": [
    "data = get_best_models_per_cluster(df)"
   ]
  },
  {
   "cell_type": "code",
   "execution_count": 169,
   "metadata": {},
   "outputs": [],
   "source": [
    "data['Cluster'] = data['Cluster'].astype('int')\n",
    "data['Home_Wins'] = data['Home_Wins'].astype('int')\n",
    "data['Away_Wins'] = data['Away_Wins'].astype('int')\n",
    "data['Draws'] = data['Draws'].astype('int')\n",
    "data['Total_Matches'] = data['Total_Matches'].astype('int')\n",
    "data['Home_Wins_Percentage'] = data['Home_Wins'] / data['Total_Matches']\n",
    "data['Draws_Percentage'] = data['Draws'] / data['Total_Matches']\n",
    "data['Away_Wins_Percentage'] = data['Away_Wins'] / data['Total_Matches']\n",
    "data['Weight'] = data['Total_Matches'] / data.Total_Matches.sum()\n",
    "data_metrics = data.drop(['Model_Support', 'Model_FScore', 'Model_Precision'], axis=1)"
   ]
  },
  {
   "cell_type": "code",
   "execution_count": 178,
   "metadata": {},
   "outputs": [
    {
     "data": {
      "text/html": [
       "<div>\n",
       "<style scoped>\n",
       "    .dataframe tbody tr th:only-of-type {\n",
       "        vertical-align: middle;\n",
       "    }\n",
       "\n",
       "    .dataframe tbody tr th {\n",
       "        vertical-align: top;\n",
       "    }\n",
       "\n",
       "    .dataframe thead th {\n",
       "        text-align: right;\n",
       "    }\n",
       "</style>\n",
       "<table border=\"1\" class=\"dataframe\">\n",
       "  <thead>\n",
       "    <tr style=\"text-align: right;\">\n",
       "      <th></th>\n",
       "      <th>Cluster</th>\n",
       "      <th>Best_Model</th>\n",
       "      <th>Best_Acc</th>\n",
       "      <th>Recall_Home</th>\n",
       "      <th>Recall_Draw</th>\n",
       "      <th>Recall_Away</th>\n",
       "      <th>Home_Wins_Percentage</th>\n",
       "      <th>Draws_Percentage</th>\n",
       "      <th>Away_Wins_Percentage</th>\n",
       "      <th>Total_Matches</th>\n",
       "    </tr>\n",
       "  </thead>\n",
       "  <tbody>\n",
       "    <tr>\n",
       "      <th>2</th>\n",
       "      <td>1</td>\n",
       "      <td>RF</td>\n",
       "      <td>0.90</td>\n",
       "      <td>1.00</td>\n",
       "      <td>0.19</td>\n",
       "      <td>0.14</td>\n",
       "      <td>0.88</td>\n",
       "      <td>0.08</td>\n",
       "      <td>0.04</td>\n",
       "      <td>341</td>\n",
       "    </tr>\n",
       "    <tr>\n",
       "      <th>8</th>\n",
       "      <td>4</td>\n",
       "      <td>XGB</td>\n",
       "      <td>0.84</td>\n",
       "      <td>0.98</td>\n",
       "      <td>0.22</td>\n",
       "      <td>0.60</td>\n",
       "      <td>0.77</td>\n",
       "      <td>0.15</td>\n",
       "      <td>0.08</td>\n",
       "      <td>61</td>\n",
       "    </tr>\n",
       "    <tr>\n",
       "      <th>5</th>\n",
       "      <td>6</td>\n",
       "      <td>RF</td>\n",
       "      <td>0.75</td>\n",
       "      <td>0.98</td>\n",
       "      <td>0.27</td>\n",
       "      <td>0.21</td>\n",
       "      <td>0.69</td>\n",
       "      <td>0.21</td>\n",
       "      <td>0.10</td>\n",
       "      <td>234</td>\n",
       "    </tr>\n",
       "    <tr>\n",
       "      <th>0</th>\n",
       "      <td>3</td>\n",
       "      <td>RF</td>\n",
       "      <td>0.71</td>\n",
       "      <td>0.99</td>\n",
       "      <td>0.20</td>\n",
       "      <td>0.21</td>\n",
       "      <td>0.64</td>\n",
       "      <td>0.21</td>\n",
       "      <td>0.15</td>\n",
       "      <td>740</td>\n",
       "    </tr>\n",
       "    <tr>\n",
       "      <th>3</th>\n",
       "      <td>5</td>\n",
       "      <td>RF</td>\n",
       "      <td>0.67</td>\n",
       "      <td>0.46</td>\n",
       "      <td>0.22</td>\n",
       "      <td>0.90</td>\n",
       "      <td>0.19</td>\n",
       "      <td>0.21</td>\n",
       "      <td>0.60</td>\n",
       "      <td>546</td>\n",
       "    </tr>\n",
       "    <tr>\n",
       "      <th>7</th>\n",
       "      <td>2</td>\n",
       "      <td>SVM</td>\n",
       "      <td>0.59</td>\n",
       "      <td>0.79</td>\n",
       "      <td>0.58</td>\n",
       "      <td>0.40</td>\n",
       "      <td>0.33</td>\n",
       "      <td>0.33</td>\n",
       "      <td>0.34</td>\n",
       "      <td>58</td>\n",
       "    </tr>\n",
       "    <tr>\n",
       "      <th>9</th>\n",
       "      <td>7</td>\n",
       "      <td>SGD</td>\n",
       "      <td>0.59</td>\n",
       "      <td>0.29</td>\n",
       "      <td>0.31</td>\n",
       "      <td>0.87</td>\n",
       "      <td>0.23</td>\n",
       "      <td>0.26</td>\n",
       "      <td>0.51</td>\n",
       "      <td>61</td>\n",
       "    </tr>\n",
       "    <tr>\n",
       "      <th>1</th>\n",
       "      <td>9</td>\n",
       "      <td>XGB</td>\n",
       "      <td>0.56</td>\n",
       "      <td>0.84</td>\n",
       "      <td>0.35</td>\n",
       "      <td>0.27</td>\n",
       "      <td>0.47</td>\n",
       "      <td>0.29</td>\n",
       "      <td>0.24</td>\n",
       "      <td>1469</td>\n",
       "    </tr>\n",
       "    <tr>\n",
       "      <th>4</th>\n",
       "      <td>8</td>\n",
       "      <td>KNN</td>\n",
       "      <td>0.52</td>\n",
       "      <td>0.68</td>\n",
       "      <td>0.31</td>\n",
       "      <td>0.50</td>\n",
       "      <td>0.36</td>\n",
       "      <td>0.25</td>\n",
       "      <td>0.40</td>\n",
       "      <td>734</td>\n",
       "    </tr>\n",
       "    <tr>\n",
       "      <th>6</th>\n",
       "      <td>0</td>\n",
       "      <td>RF</td>\n",
       "      <td>0.51</td>\n",
       "      <td>0.73</td>\n",
       "      <td>0.39</td>\n",
       "      <td>0.30</td>\n",
       "      <td>0.43</td>\n",
       "      <td>0.27</td>\n",
       "      <td>0.30</td>\n",
       "      <td>966</td>\n",
       "    </tr>\n",
       "  </tbody>\n",
       "</table>\n",
       "</div>"
      ],
      "text/plain": [
       "   Cluster Best_Model  Best_Acc  Recall_Home  Recall_Draw  Recall_Away  \\\n",
       "2        1         RF      0.90         1.00         0.19         0.14   \n",
       "8        4        XGB      0.84         0.98         0.22         0.60   \n",
       "5        6         RF      0.75         0.98         0.27         0.21   \n",
       "0        3         RF      0.71         0.99         0.20         0.21   \n",
       "3        5         RF      0.67         0.46         0.22         0.90   \n",
       "7        2        SVM      0.59         0.79         0.58         0.40   \n",
       "9        7        SGD      0.59         0.29         0.31         0.87   \n",
       "1        9        XGB      0.56         0.84         0.35         0.27   \n",
       "4        8        KNN      0.52         0.68         0.31         0.50   \n",
       "6        0         RF      0.51         0.73         0.39         0.30   \n",
       "\n",
       "   Home_Wins_Percentage  Draws_Percentage  Away_Wins_Percentage  Total_Matches  \n",
       "2                  0.88              0.08                  0.04            341  \n",
       "8                  0.77              0.15                  0.08             61  \n",
       "5                  0.69              0.21                  0.10            234  \n",
       "0                  0.64              0.21                  0.15            740  \n",
       "3                  0.19              0.21                  0.60            546  \n",
       "7                  0.33              0.33                  0.34             58  \n",
       "9                  0.23              0.26                  0.51             61  \n",
       "1                  0.47              0.29                  0.24           1469  \n",
       "4                  0.36              0.25                  0.40            734  \n",
       "6                  0.43              0.27                  0.30            966  "
      ]
     },
     "execution_count": 178,
     "metadata": {},
     "output_type": "execute_result"
    }
   ],
   "source": [
    "data_metrics[['Recall_Draw',  'Recall_Home', 'Recall_Away']]=data_metrics.Model_Recall.apply(pd.Series)\n",
    "data_metrics = data_metrics.round(2)\n",
    "data_metrics.sort_values(by='Best_Acc', ascending=False)[['Cluster', 'Best_Model', 'Best_Acc', 'Recall_Home', 'Recall_Draw', \n",
    "                                                          'Recall_Away', 'Home_Wins_Percentage', 'Draws_Percentage', 'Away_Wins_Percentage', 'Total_Matches']]\n"
   ]
  },
  {
   "cell_type": "code",
   "execution_count": 177,
   "metadata": {},
   "outputs": [
    {
     "data": {
      "text/plain": [
       "61.420345489443385"
      ]
     },
     "execution_count": 177,
     "metadata": {},
     "output_type": "execute_result"
    }
   ],
   "source": [
    "(data['Best_Acc'] * 100 * data['Weight']).sum()"
   ]
  },
  {
   "cell_type": "code",
   "execution_count": null,
   "metadata": {},
   "outputs": [],
   "source": []
  },
  {
   "cell_type": "markdown",
   "metadata": {},
   "source": [
    "# Bagging"
   ]
  },
  {
   "cell_type": "code",
   "execution_count": 147,
   "metadata": {},
   "outputs": [
    {
     "data": {
      "text/plain": [
       "array([0.52965116, 0.53662791, 0.52965116, 0.52906977, 0.52790698])"
      ]
     },
     "execution_count": 147,
     "metadata": {},
     "output_type": "execute_result"
    }
   ],
   "source": [
    "from sklearn.ensemble import BaggingClassifier\n",
    "import numpy as np\n",
    "\n",
    "df = pd.read_csv('../inputs/ready_data/preprocessed_all_matches.csv', parse_dates=['Date'])\n",
    "df.dropna(subset=['HomeTeam', 'AwayTeam'], inplace=True)\n",
    "df = df[['Full_Time_Result', 'Home Overall Score', 'Home Attack Score', 'Home Middle Score', 'Home Defensive Score', 'Home Budget',\n",
    "        'Away Overall Score', 'Away Attack Score', 'Away Middle Score', 'Away Defensive Score', 'Away Budget', 'Difference_Overall_Score',\n",
    "        'Difference_Attack_Score', 'Difference_Middle_Score', 'Difference_Defensive_Score', 'Difference_Budget', 'HOME_TRUESKILL_MU_NO_RESET',\n",
    "        'AWAY_TRUESKILL_MU_NO_RESET','HOME_TRUESKILL_SIGMA_NO_RESET', 'AWAY_TRUESKILL_SIGMA_NO_RESET','DRAW_CHANCE_NO_RESET',\n",
    "        'HOME_TRUESKILL_MU_SEASON', 'AWAY_TRUESKILL_MU_SEASON', 'HOME_TRUESKILL_SIGMA_SEASON', 'AWAY_TRUESKILL_SIGMA_SEASON',\n",
    "        'DRAW_CHANCE_SEASON', 'HOME_ID', 'AWAY_ID',\n",
    "        'HOME_WINS_HOME', 'HOME_DRAWS_HOME', 'HOME_LOSSES_HOME', 'AWAY_WINS_HOME', 'AWAY_DRAWS_HOME', 'AWAY_LOSSES_HOME', 'HOME_WINS_AWAY', 'HOME_DRAWS_AWAY', \n",
    "        'HOME_LOSSES_AWAY', 'AWAY_WINS_AWAY', 'AWAY_DRAWS_AWAY', 'AWAY_LOSSES_AWAY']]\n",
    "\n",
    "v_G = np.linspace(11,51,5,dtype=int)\n",
    "\n",
    "acierto_bagging = np.empty(len(v_G))\n",
    "coste_bagging = np.empty(len(v_G))\n",
    "v_max_samples = np.empty(len(v_G))\n",
    "dict_bagging = {}\n",
    "\n",
    "X = df.drop(['Full_Time_Result'], axis=1)\n",
    "y = df.Full_Time_Result\n",
    "X = StandardScaler().fit_transform(X)\n",
    "X_train, X_test, y_train, y_test = train_test_split(X, y, test_size=0.33, shuffle=False)\n",
    "for i,K in enumerate(v_G):\n",
    "   \n",
    "    max_samples = int(X_train.shape[0] / K)\n",
    "    v_max_samples[i] = max_samples\n",
    "   \n",
    "    bc = BaggingClassifier(base_estimator = SVC(), n_estimators = K, max_samples = max_samples).fit(X_train, y_train)\n",
    "    dict_bagging[K] = bc\n",
    "    acierto_bagging[i] = bc.score(X_test,y_test)\n",
    "    # coste_bagging[i] = K * interpolar_tiempo_svm(max_samples)\n",
    "\n",
    "acierto_bagging"
   ]
  },
  {
   "cell_type": "markdown",
   "metadata": {},
   "source": [
    "# Stacking"
   ]
  },
  {
   "cell_type": "code",
   "execution_count": 11,
   "metadata": {},
   "outputs": [
    {
     "name": "stderr",
     "output_type": "stream",
     "text": [
      "/home/mol/Escritorio/Proyectos/Betting-System/venv/lib/python3.8/site-packages/sklearn/linear_model/_logistic.py:814: ConvergenceWarning: lbfgs failed to converge (status=1):\n",
      "STOP: TOTAL NO. of ITERATIONS REACHED LIMIT.\n",
      "\n",
      "Increase the number of iterations (max_iter) or scale the data as shown in:\n",
      "    https://scikit-learn.org/stable/modules/preprocessing.html\n",
      "Please also refer to the documentation for alternative solver options:\n",
      "    https://scikit-learn.org/stable/modules/linear_model.html#logistic-regression\n",
      "  n_iter_i = _check_optimize_result(\n",
      "/home/mol/Escritorio/Proyectos/Betting-System/venv/lib/python3.8/site-packages/sklearn/linear_model/_logistic.py:814: ConvergenceWarning: lbfgs failed to converge (status=1):\n",
      "STOP: TOTAL NO. of ITERATIONS REACHED LIMIT.\n",
      "\n",
      "Increase the number of iterations (max_iter) or scale the data as shown in:\n",
      "    https://scikit-learn.org/stable/modules/preprocessing.html\n",
      "Please also refer to the documentation for alternative solver options:\n",
      "    https://scikit-learn.org/stable/modules/linear_model.html#logistic-regression\n",
      "  n_iter_i = _check_optimize_result(\n"
     ]
    },
    {
     "name": "stdout",
     "output_type": "stream",
     "text": [
      "0.538953488372093\n"
     ]
    }
   ],
   "source": [
    "from sklearn.ensemble import StackingClassifier\n",
    "from sklearn.ensemble import RandomForestClassifier\n",
    "from sklearn.svm import SVC\n",
    "from sklearn.linear_model import LogisticRegression\n",
    "from xgboost import XGBClassifier\n",
    "from sklearn.pipeline import make_pipeline\n",
    "from sklearn.model_selection import train_test_split\n",
    "from sklearn.preprocessing import StandardScaler\n",
    "from sklearn.metrics import accuracy_score\n",
    "import pandas as pd\n",
    "\n",
    "df = pd.read_csv('../inputs/ready_data/preprocessed_all_matches.csv', parse_dates=['Date'])\n",
    "df.dropna(subset=['HomeTeam', 'AwayTeam'], inplace=True)\n",
    "df = df[['Full_Time_Result', 'Home Overall Score', 'Home Attack Score', 'Home Middle Score', 'Home Defensive Score', 'Home Budget',\n",
    "        'Away Overall Score', 'Away Attack Score', 'Away Middle Score', 'Away Defensive Score', 'Away Budget', 'Difference_Overall_Score',\n",
    "        'Difference_Attack_Score', 'Difference_Middle_Score', 'Difference_Defensive_Score', 'Difference_Budget', 'HOME_TRUESKILL_MU_NO_RESET',\n",
    "        'AWAY_TRUESKILL_MU_NO_RESET','HOME_TRUESKILL_SIGMA_NO_RESET', 'AWAY_TRUESKILL_SIGMA_NO_RESET','DRAW_CHANCE_NO_RESET',\n",
    "        'HOME_TRUESKILL_MU_SEASON', 'AWAY_TRUESKILL_MU_SEASON', 'HOME_TRUESKILL_SIGMA_SEASON', 'AWAY_TRUESKILL_SIGMA_SEASON',\n",
    "        'DRAW_CHANCE_SEASON', 'HOME_ID', 'AWAY_ID',\n",
    "        'HOME_WINS_HOME', 'HOME_DRAWS_HOME', 'HOME_LOSSES_HOME', 'AWAY_WINS_HOME', 'AWAY_DRAWS_HOME', 'AWAY_LOSSES_HOME', 'HOME_WINS_AWAY', 'HOME_DRAWS_AWAY', \n",
    "        'HOME_LOSSES_AWAY', 'AWAY_WINS_AWAY', 'AWAY_DRAWS_AWAY', 'AWAY_LOSSES_AWAY']]\n",
    "\n",
    "estimators = [\n",
    "    ('rf', RandomForestClassifier(random_state=42)),\n",
    "    ('svc', make_pipeline(StandardScaler(), SVC(random_state=42))),\n",
    "    ('lr', make_pipeline(StandardScaler(),LogisticRegression(random_state=42, max_iter=500))),\n",
    "    ('xgb', XGBClassifier(eval_metric='mlogloss', use_label_encoder=False))\n",
    "]\n",
    "\n",
    "clf = StackingClassifier(estimators=estimators, final_estimator=LogisticRegression())\n",
    "\n",
    "X = df.drop(['Full_Time_Result'], axis=1)\n",
    "y = df.Full_Time_Result\n",
    "X_train, X_test, y_train, y_test = train_test_split(X, y, stratify=y, random_state=42, test_size=0.33)\n",
    "\n",
    "clf.fit(X_train, y_train)\n",
    "print(clf.fit(X_train, y_train).score(X_test, y_test))\n"
   ]
  },
  {
   "cell_type": "code",
   "execution_count": null,
   "metadata": {},
   "outputs": [],
   "source": []
  }
 ],
 "metadata": {
  "interpreter": {
   "hash": "53faabe0e0345219f91441a5e627a878968927929e4459b9887e4068c65a2fdc"
  },
  "kernelspec": {
   "display_name": "Python 3.8.10 64-bit ('venv': venv)",
   "name": "python3"
  },
  "language_info": {
   "codemirror_mode": {
    "name": "ipython",
    "version": 3
   },
   "file_extension": ".py",
   "mimetype": "text/x-python",
   "name": "python",
   "nbconvert_exporter": "python",
   "pygments_lexer": "ipython3",
   "version": "3.8.10"
  },
  "orig_nbformat": 4
 },
 "nbformat": 4,
 "nbformat_minor": 2
}
